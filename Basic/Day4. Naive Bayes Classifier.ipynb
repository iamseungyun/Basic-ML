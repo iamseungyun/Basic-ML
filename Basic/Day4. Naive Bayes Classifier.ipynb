{
 "cells": [
  {
   "cell_type": "code",
   "execution_count": 1,
   "id": "bdb59db0",
   "metadata": {},
   "outputs": [],
   "source": [
    "import pandas as pd\n",
    "import numpy as np\n",
    "import random\n",
    "import re\n",
    "import warnings\n",
    "warnings.filterwarnings('ignore')\n",
    "\n",
    "from collections import defaultdict\n",
    "from tqdm import tqdm\n",
    "from scipy.stats import norm\n",
    "from sklearn.model_selection import train_test_split\n",
    "from sklearn.naive_bayes import GaussianNB, MultinomialNB\n",
    "from sklearn.feature_extraction.text import CountVectorizer"
   ]
  },
  {
   "cell_type": "markdown",
   "id": "1ab798f9",
   "metadata": {},
   "source": [
    "### 출력변수가 하나인 경우"
   ]
  },
  {
   "cell_type": "code",
   "execution_count": 2,
   "id": "c8ca6255",
   "metadata": {},
   "outputs": [],
   "source": [
    "columns = ['age', 'workclass','fnlwgt','education', 'educational-num','marital-status', 'occupation', \\\n",
    "           'relationship', 'race', 'sex', 'capital-gain','capital-loss', 'hours-per-week', 'native-country', 'income']\n",
    "df = pd.read_csv('./data/adult/adult.data', names =columns, header=None)"
   ]
  },
  {
   "cell_type": "code",
   "execution_count": 3,
   "id": "32b08304",
   "metadata": {},
   "outputs": [
    {
     "data": {
      "text/html": [
       "<div>\n",
       "<style scoped>\n",
       "    .dataframe tbody tr th:only-of-type {\n",
       "        vertical-align: middle;\n",
       "    }\n",
       "\n",
       "    .dataframe tbody tr th {\n",
       "        vertical-align: top;\n",
       "    }\n",
       "\n",
       "    .dataframe thead th {\n",
       "        text-align: right;\n",
       "    }\n",
       "</style>\n",
       "<table border=\"1\" class=\"dataframe\">\n",
       "  <thead>\n",
       "    <tr style=\"text-align: right;\">\n",
       "      <th></th>\n",
       "      <th>age</th>\n",
       "      <th>workclass</th>\n",
       "      <th>fnlwgt</th>\n",
       "      <th>education</th>\n",
       "      <th>educational-num</th>\n",
       "      <th>marital-status</th>\n",
       "      <th>occupation</th>\n",
       "      <th>relationship</th>\n",
       "      <th>race</th>\n",
       "      <th>sex</th>\n",
       "      <th>capital-gain</th>\n",
       "      <th>capital-loss</th>\n",
       "      <th>hours-per-week</th>\n",
       "      <th>native-country</th>\n",
       "      <th>income</th>\n",
       "    </tr>\n",
       "  </thead>\n",
       "  <tbody>\n",
       "    <tr>\n",
       "      <th>0</th>\n",
       "      <td>39</td>\n",
       "      <td>State-gov</td>\n",
       "      <td>77516</td>\n",
       "      <td>Bachelors</td>\n",
       "      <td>13</td>\n",
       "      <td>Never-married</td>\n",
       "      <td>Adm-clerical</td>\n",
       "      <td>Not-in-family</td>\n",
       "      <td>White</td>\n",
       "      <td>Male</td>\n",
       "      <td>2174</td>\n",
       "      <td>0</td>\n",
       "      <td>40</td>\n",
       "      <td>United-States</td>\n",
       "      <td>&lt;=50K</td>\n",
       "    </tr>\n",
       "    <tr>\n",
       "      <th>1</th>\n",
       "      <td>50</td>\n",
       "      <td>Self-emp-not-inc</td>\n",
       "      <td>83311</td>\n",
       "      <td>Bachelors</td>\n",
       "      <td>13</td>\n",
       "      <td>Married-civ-spouse</td>\n",
       "      <td>Exec-managerial</td>\n",
       "      <td>Husband</td>\n",
       "      <td>White</td>\n",
       "      <td>Male</td>\n",
       "      <td>0</td>\n",
       "      <td>0</td>\n",
       "      <td>13</td>\n",
       "      <td>United-States</td>\n",
       "      <td>&lt;=50K</td>\n",
       "    </tr>\n",
       "    <tr>\n",
       "      <th>2</th>\n",
       "      <td>38</td>\n",
       "      <td>Private</td>\n",
       "      <td>215646</td>\n",
       "      <td>HS-grad</td>\n",
       "      <td>9</td>\n",
       "      <td>Divorced</td>\n",
       "      <td>Handlers-cleaners</td>\n",
       "      <td>Not-in-family</td>\n",
       "      <td>White</td>\n",
       "      <td>Male</td>\n",
       "      <td>0</td>\n",
       "      <td>0</td>\n",
       "      <td>40</td>\n",
       "      <td>United-States</td>\n",
       "      <td>&lt;=50K</td>\n",
       "    </tr>\n",
       "    <tr>\n",
       "      <th>3</th>\n",
       "      <td>53</td>\n",
       "      <td>Private</td>\n",
       "      <td>234721</td>\n",
       "      <td>11th</td>\n",
       "      <td>7</td>\n",
       "      <td>Married-civ-spouse</td>\n",
       "      <td>Handlers-cleaners</td>\n",
       "      <td>Husband</td>\n",
       "      <td>Black</td>\n",
       "      <td>Male</td>\n",
       "      <td>0</td>\n",
       "      <td>0</td>\n",
       "      <td>40</td>\n",
       "      <td>United-States</td>\n",
       "      <td>&lt;=50K</td>\n",
       "    </tr>\n",
       "    <tr>\n",
       "      <th>4</th>\n",
       "      <td>28</td>\n",
       "      <td>Private</td>\n",
       "      <td>338409</td>\n",
       "      <td>Bachelors</td>\n",
       "      <td>13</td>\n",
       "      <td>Married-civ-spouse</td>\n",
       "      <td>Prof-specialty</td>\n",
       "      <td>Wife</td>\n",
       "      <td>Black</td>\n",
       "      <td>Female</td>\n",
       "      <td>0</td>\n",
       "      <td>0</td>\n",
       "      <td>40</td>\n",
       "      <td>Cuba</td>\n",
       "      <td>&lt;=50K</td>\n",
       "    </tr>\n",
       "  </tbody>\n",
       "</table>\n",
       "</div>"
      ],
      "text/plain": [
       "   age          workclass  fnlwgt   education  educational-num  \\\n",
       "0   39          State-gov   77516   Bachelors               13   \n",
       "1   50   Self-emp-not-inc   83311   Bachelors               13   \n",
       "2   38            Private  215646     HS-grad                9   \n",
       "3   53            Private  234721        11th                7   \n",
       "4   28            Private  338409   Bachelors               13   \n",
       "\n",
       "        marital-status          occupation    relationship    race      sex  \\\n",
       "0        Never-married        Adm-clerical   Not-in-family   White     Male   \n",
       "1   Married-civ-spouse     Exec-managerial         Husband   White     Male   \n",
       "2             Divorced   Handlers-cleaners   Not-in-family   White     Male   \n",
       "3   Married-civ-spouse   Handlers-cleaners         Husband   Black     Male   \n",
       "4   Married-civ-spouse      Prof-specialty            Wife   Black   Female   \n",
       "\n",
       "   capital-gain  capital-loss  hours-per-week  native-country  income  \n",
       "0          2174             0              40   United-States   <=50K  \n",
       "1             0             0              13   United-States   <=50K  \n",
       "2             0             0              40   United-States   <=50K  \n",
       "3             0             0              40   United-States   <=50K  \n",
       "4             0             0              40            Cuba   <=50K  "
      ]
     },
     "execution_count": 3,
     "metadata": {},
     "output_type": "execute_result"
    }
   ],
   "source": [
    "df.head()"
   ]
  },
  {
   "cell_type": "code",
   "execution_count": 4,
   "id": "5a25b7b4",
   "metadata": {},
   "outputs": [],
   "source": [
    "for col in df.columns:\n",
    "    df[col].replace('?',np.NaN, inplace=True)\n",
    "    \n",
    "df.dropna(inplace=True)"
   ]
  },
  {
   "cell_type": "code",
   "execution_count": 5,
   "id": "3f89616d",
   "metadata": {},
   "outputs": [
    {
     "data": {
      "text/plain": [
       "<bound method DataFrame.info of        age          workclass  fnlwgt    education  educational-num  \\\n",
       "0       39          State-gov   77516    Bachelors               13   \n",
       "1       50   Self-emp-not-inc   83311    Bachelors               13   \n",
       "2       38            Private  215646      HS-grad                9   \n",
       "3       53            Private  234721         11th                7   \n",
       "4       28            Private  338409    Bachelors               13   \n",
       "...    ...                ...     ...          ...              ...   \n",
       "32556   27            Private  257302   Assoc-acdm               12   \n",
       "32557   40            Private  154374      HS-grad                9   \n",
       "32558   58            Private  151910      HS-grad                9   \n",
       "32559   22            Private  201490      HS-grad                9   \n",
       "32560   52       Self-emp-inc  287927      HS-grad                9   \n",
       "\n",
       "            marital-status          occupation    relationship    race  \\\n",
       "0            Never-married        Adm-clerical   Not-in-family   White   \n",
       "1       Married-civ-spouse     Exec-managerial         Husband   White   \n",
       "2                 Divorced   Handlers-cleaners   Not-in-family   White   \n",
       "3       Married-civ-spouse   Handlers-cleaners         Husband   Black   \n",
       "4       Married-civ-spouse      Prof-specialty            Wife   Black   \n",
       "...                    ...                 ...             ...     ...   \n",
       "32556   Married-civ-spouse        Tech-support            Wife   White   \n",
       "32557   Married-civ-spouse   Machine-op-inspct         Husband   White   \n",
       "32558              Widowed        Adm-clerical       Unmarried   White   \n",
       "32559        Never-married        Adm-clerical       Own-child   White   \n",
       "32560   Married-civ-spouse     Exec-managerial            Wife   White   \n",
       "\n",
       "           sex  capital-gain  capital-loss  hours-per-week  native-country  \\\n",
       "0         Male          2174             0              40   United-States   \n",
       "1         Male             0             0              13   United-States   \n",
       "2         Male             0             0              40   United-States   \n",
       "3         Male             0             0              40   United-States   \n",
       "4       Female             0             0              40            Cuba   \n",
       "...        ...           ...           ...             ...             ...   \n",
       "32556   Female             0             0              38   United-States   \n",
       "32557     Male             0             0              40   United-States   \n",
       "32558   Female             0             0              40   United-States   \n",
       "32559     Male             0             0              20   United-States   \n",
       "32560   Female         15024             0              40   United-States   \n",
       "\n",
       "       income  \n",
       "0       <=50K  \n",
       "1       <=50K  \n",
       "2       <=50K  \n",
       "3       <=50K  \n",
       "4       <=50K  \n",
       "...       ...  \n",
       "32556   <=50K  \n",
       "32557    >50K  \n",
       "32558   <=50K  \n",
       "32559   <=50K  \n",
       "32560    >50K  \n",
       "\n",
       "[32561 rows x 15 columns]>"
      ]
     },
     "execution_count": 5,
     "metadata": {},
     "output_type": "execute_result"
    }
   ],
   "source": [
    "df.info"
   ]
  },
  {
   "cell_type": "code",
   "execution_count": 6,
   "id": "828a06d0",
   "metadata": {},
   "outputs": [],
   "source": [
    "#범주형 자료를 숫자로\n",
    "def convert_label(df, column):\n",
    "    unique_value = df[column].unique()\n",
    "    res = []\n",
    "    res_dict = dict()\n",
    "    \n",
    "    for i,u in enumerate(unique_value):\n",
    "        res_dict[i] = u\n",
    "    \n",
    "    for v in df[column]:\n",
    "        idx = np.where(unique_value==v)[0][0]\n",
    "        res.append(idx)\n",
    "    \n",
    "    return res, res_dict"
   ]
  },
  {
   "cell_type": "code",
   "execution_count": 7,
   "id": "aed7bdda",
   "metadata": {},
   "outputs": [],
   "source": [
    "categorical_column = ['workclass', 'education', 'marital-status', 'occupation', 'relationship', 'race', 'sex', 'native-country']\n",
    "\n",
    "res_dicts = dict()\n",
    "\n",
    "for col in categorical_column+['income']:\n",
    "    res, res_dict = convert_label(df, col)\n",
    "    res_dicts[col] = res_dict\n",
    "    df[col] = res"
   ]
  },
  {
   "cell_type": "code",
   "execution_count": 8,
   "id": "55e52acd",
   "metadata": {},
   "outputs": [],
   "source": [
    "#target 확률\n",
    "def estimate_target_prob(df, target, label):\n",
    "    return len(df[df[target]==label])/len(df)"
   ]
  },
  {
   "cell_type": "code",
   "execution_count": 9,
   "id": "a07e9af6",
   "metadata": {},
   "outputs": [],
   "source": [
    "#범주별 확률\n",
    "def category_prob(df, column, category, target, label, l=1):\n",
    "    numerator = len(df[(df[column]==category)&(df[target]==label)]) + l\n",
    "    denominator = len(df[df[target]==label])+l*len(df[column].unique())\n",
    "    return numerator/denominator"
   ]
  },
  {
   "cell_type": "code",
   "execution_count": 10,
   "id": "98703665",
   "metadata": {},
   "outputs": [],
   "source": [
    "#mean, std 추정\n",
    "def estimate_mean_std(df, column, target, label):\n",
    "    temp = df[df[target]==label]\n",
    "    mu = temp[column].mean()\n",
    "    std = temp[column].std()\n",
    "    return mu, std"
   ]
  },
  {
   "cell_type": "code",
   "execution_count": 11,
   "id": "8bea9df9",
   "metadata": {},
   "outputs": [],
   "source": [
    "class NaiveBayesClassifier:\n",
    "    def __init__(self,unique_label,target,categorical_column=[]):\n",
    "        self.__reference_dict = None\n",
    "        self.__prior_probs = None\n",
    "        self.__categorical_column = categorical_column\n",
    "        self.__unique_label = unique_label #출력변수 label\n",
    "        self.__target = target #출력변수\n",
    "        \n",
    "    def train(self, train_df):\n",
    "        reference_dict = dict()\n",
    "        \n",
    "        for col in train_df.columns[:-1]:\n",
    "            temp_res = []\n",
    "            \n",
    "            for label in self.__unique_label:\n",
    "                if col in self.__categorical_column:\n",
    "                    unique_value = train_df[col].unique()\n",
    "                    temp_res1 = []\n",
    "                    \n",
    "                    for u in unique_value:\n",
    "                        temp_res1.append(category_prob(train_df, col, u, self.__target, label, l=1))\n",
    "                    temp_res.append(temp_res1)\n",
    "                else:\n",
    "                    temp_res.append(estimate_mean_std(train_df, col, self.__target,label))\n",
    "                    \n",
    "            reference_dict[col] = temp_res\n",
    "        self.__reference_dict = reference_dict\n",
    "        \n",
    "        prior_probs = []\n",
    "        for label in self.__unique_label:\n",
    "            prior_prob = estimate_target_prob(train_df, self.__target, label)\n",
    "            prior_probs.append(prior_prob)\n",
    "        self.__prior_probs = prior_probs\n",
    "        \n",
    "    def get_reference_dict(self):\n",
    "        return self.__reference_dict\n",
    "    \n",
    "    def predict(self, new_data):\n",
    "        object_value = [0]*len(self.__unique_label)\n",
    "        \n",
    "        for idx in new_data.index[:-1]:\n",
    "            value = new_data[idx]\n",
    "            reference_value = self.__reference_dict[idx]\n",
    "            \n",
    "            if idx in self.__categorical_column:\n",
    "                for i, r in enumerate(reference_value):\n",
    "                    value =int(value)\n",
    "                    object_value[i] += np.log(r[value])\n",
    "                    \n",
    "            else:\n",
    "                for i,r in enumerate(reference_value):\n",
    "                    object_value[i] += np.log(norm.pdf(value, r[0], r[1]))\n",
    "                    \n",
    "        for i in self.__unique_label:\n",
    "            object_value[i] += np.log(self.__prior_probs[i])\n",
    "            \n",
    "        max_object_value = max(object_value)\n",
    "        max_idx = object_value.index(max_object_value)\n",
    "        \n",
    "        return max_idx"
   ]
  },
  {
   "cell_type": "code",
   "execution_count": 12,
   "id": "24ae4e43",
   "metadata": {},
   "outputs": [],
   "source": [
    "def split_test_train_data(df, split_ratio):\n",
    "    num_test_df = int(len(df)*split_ratio)\n",
    "    idx_test_df = random.sample(df.index.tolist(), num_test_df)\n",
    "    \n",
    "    test_df = df.loc[idx_test_df].reset_index(drop=True)\n",
    "    train_df = df.drop(idx_test_df).reset_index(drop=True)\n",
    "    \n",
    "    return train_df, test_df"
   ]
  },
  {
   "cell_type": "code",
   "execution_count": 13,
   "id": "b6871789",
   "metadata": {},
   "outputs": [],
   "source": [
    "#학습\n",
    "random.seed(110)\n",
    "split_ratio = 0.2\n",
    "\n",
    "train_df, test_df = split_test_train_data(df,split_ratio)\n",
    "\n",
    "for col in train_df.columns[:-1]:\n",
    "    if col not in categorical_column:\n",
    "        mean = train_df[col].mean()\n",
    "        std = train_df[col].std()\n",
    "        train_df[col] = train_df[col].map(lambda x: (x-mean)/std)\n",
    "        test_df[col] = test_df[col].map(lambda x: (x-mean)/std)\n",
    "        \n",
    "target = 'income'\n",
    "unique_label = df[target].unique()\n",
    "\n",
    "NBC = NaiveBayesClassifier(unique_label, target, categorical_column)"
   ]
  },
  {
   "cell_type": "code",
   "execution_count": 14,
   "id": "cd1a54ff",
   "metadata": {},
   "outputs": [],
   "source": [
    "NBC.train(train_df)"
   ]
  },
  {
   "cell_type": "code",
   "execution_count": 15,
   "id": "18d80dd1",
   "metadata": {},
   "outputs": [
    {
     "name": "stderr",
     "output_type": "stream",
     "text": [
      "100%|███████████████████████████████████████████████████████████████████████████| 26049/26049 [00:37<00:00, 689.95it/s]\n"
     ]
    }
   ],
   "source": [
    "#train accuracy\n",
    "total_sum = 0\n",
    "\n",
    "for i, new_data in tqdm(train_df.iterrows(), total=len(train_df)):\n",
    "    if new_data[target] == NBC.predict(new_data):\n",
    "        total_sum += 1\n",
    "        \n",
    "accuracy = total_sum/len(train_df)"
   ]
  },
  {
   "cell_type": "code",
   "execution_count": 16,
   "id": "20c87abe",
   "metadata": {},
   "outputs": [
    {
     "data": {
      "text/plain": [
       "0.8285538792276095"
      ]
     },
     "execution_count": 16,
     "metadata": {},
     "output_type": "execute_result"
    }
   ],
   "source": [
    "accuracy"
   ]
  },
  {
   "cell_type": "code",
   "execution_count": 17,
   "id": "f01ccb79",
   "metadata": {},
   "outputs": [
    {
     "name": "stderr",
     "output_type": "stream",
     "text": [
      "100%|█████████████████████████████████████████████████████████████████████████████| 6512/6512 [00:09<00:00, 689.24it/s]\n"
     ]
    }
   ],
   "source": [
    "#test accuracy\n",
    "total_sum = 0\n",
    "\n",
    "for i, new_data in tqdm(test_df.iterrows(), total=len(test_df)):\n",
    "    if new_data[target] == NBC.predict(new_data):\n",
    "        total_sum += 1\n",
    "        \n",
    "accuracy = total_sum /len(test_df)"
   ]
  },
  {
   "cell_type": "code",
   "execution_count": 18,
   "id": "2274807e",
   "metadata": {},
   "outputs": [
    {
     "data": {
      "text/plain": [
       "0.827088452088452"
      ]
     },
     "execution_count": 18,
     "metadata": {},
     "output_type": "execute_result"
    }
   ],
   "source": [
    "accuracy"
   ]
  },
  {
   "cell_type": "code",
   "execution_count": 19,
   "id": "b3ed476f",
   "metadata": {},
   "outputs": [
    {
     "name": "stdout",
     "output_type": "stream",
     "text": [
      "0.7627457002457002\n"
     ]
    }
   ],
   "source": [
    "mode = train_df[target].mode()[0]\n",
    "print(len(test_df[test_df[target]==mode])/len(test_df))"
   ]
  },
  {
   "cell_type": "markdown",
   "id": "ac6435ff",
   "metadata": {},
   "source": [
    "### 출력변수가 3개 이상의 클래스인 경우"
   ]
  },
  {
   "cell_type": "code",
   "execution_count": 20,
   "id": "c33b9475",
   "metadata": {},
   "outputs": [],
   "source": [
    "columns = ['Id_number', 'Rl', 'Na', 'Mg', 'Al', 'Si', 'K', 'Ca', 'Ba', 'Fe', 'Type']\n",
    "df = pd.read_csv('./data/glass+identification/glass.data', names =columns, header=None)"
   ]
  },
  {
   "cell_type": "code",
   "execution_count": 21,
   "id": "233b0d60",
   "metadata": {},
   "outputs": [
    {
     "data": {
      "text/html": [
       "<div>\n",
       "<style scoped>\n",
       "    .dataframe tbody tr th:only-of-type {\n",
       "        vertical-align: middle;\n",
       "    }\n",
       "\n",
       "    .dataframe tbody tr th {\n",
       "        vertical-align: top;\n",
       "    }\n",
       "\n",
       "    .dataframe thead th {\n",
       "        text-align: right;\n",
       "    }\n",
       "</style>\n",
       "<table border=\"1\" class=\"dataframe\">\n",
       "  <thead>\n",
       "    <tr style=\"text-align: right;\">\n",
       "      <th></th>\n",
       "      <th>Id_number</th>\n",
       "      <th>Rl</th>\n",
       "      <th>Na</th>\n",
       "      <th>Mg</th>\n",
       "      <th>Al</th>\n",
       "      <th>Si</th>\n",
       "      <th>K</th>\n",
       "      <th>Ca</th>\n",
       "      <th>Ba</th>\n",
       "      <th>Fe</th>\n",
       "      <th>Type</th>\n",
       "    </tr>\n",
       "  </thead>\n",
       "  <tbody>\n",
       "    <tr>\n",
       "      <th>0</th>\n",
       "      <td>1</td>\n",
       "      <td>1.52101</td>\n",
       "      <td>13.64</td>\n",
       "      <td>4.49</td>\n",
       "      <td>1.10</td>\n",
       "      <td>71.78</td>\n",
       "      <td>0.06</td>\n",
       "      <td>8.75</td>\n",
       "      <td>0.0</td>\n",
       "      <td>0.0</td>\n",
       "      <td>1</td>\n",
       "    </tr>\n",
       "    <tr>\n",
       "      <th>1</th>\n",
       "      <td>2</td>\n",
       "      <td>1.51761</td>\n",
       "      <td>13.89</td>\n",
       "      <td>3.60</td>\n",
       "      <td>1.36</td>\n",
       "      <td>72.73</td>\n",
       "      <td>0.48</td>\n",
       "      <td>7.83</td>\n",
       "      <td>0.0</td>\n",
       "      <td>0.0</td>\n",
       "      <td>1</td>\n",
       "    </tr>\n",
       "    <tr>\n",
       "      <th>2</th>\n",
       "      <td>3</td>\n",
       "      <td>1.51618</td>\n",
       "      <td>13.53</td>\n",
       "      <td>3.55</td>\n",
       "      <td>1.54</td>\n",
       "      <td>72.99</td>\n",
       "      <td>0.39</td>\n",
       "      <td>7.78</td>\n",
       "      <td>0.0</td>\n",
       "      <td>0.0</td>\n",
       "      <td>1</td>\n",
       "    </tr>\n",
       "    <tr>\n",
       "      <th>3</th>\n",
       "      <td>4</td>\n",
       "      <td>1.51766</td>\n",
       "      <td>13.21</td>\n",
       "      <td>3.69</td>\n",
       "      <td>1.29</td>\n",
       "      <td>72.61</td>\n",
       "      <td>0.57</td>\n",
       "      <td>8.22</td>\n",
       "      <td>0.0</td>\n",
       "      <td>0.0</td>\n",
       "      <td>1</td>\n",
       "    </tr>\n",
       "    <tr>\n",
       "      <th>4</th>\n",
       "      <td>5</td>\n",
       "      <td>1.51742</td>\n",
       "      <td>13.27</td>\n",
       "      <td>3.62</td>\n",
       "      <td>1.24</td>\n",
       "      <td>73.08</td>\n",
       "      <td>0.55</td>\n",
       "      <td>8.07</td>\n",
       "      <td>0.0</td>\n",
       "      <td>0.0</td>\n",
       "      <td>1</td>\n",
       "    </tr>\n",
       "  </tbody>\n",
       "</table>\n",
       "</div>"
      ],
      "text/plain": [
       "   Id_number       Rl     Na    Mg    Al     Si     K    Ca   Ba   Fe  Type\n",
       "0          1  1.52101  13.64  4.49  1.10  71.78  0.06  8.75  0.0  0.0     1\n",
       "1          2  1.51761  13.89  3.60  1.36  72.73  0.48  7.83  0.0  0.0     1\n",
       "2          3  1.51618  13.53  3.55  1.54  72.99  0.39  7.78  0.0  0.0     1\n",
       "3          4  1.51766  13.21  3.69  1.29  72.61  0.57  8.22  0.0  0.0     1\n",
       "4          5  1.51742  13.27  3.62  1.24  73.08  0.55  8.07  0.0  0.0     1"
      ]
     },
     "execution_count": 21,
     "metadata": {},
     "output_type": "execute_result"
    }
   ],
   "source": [
    "df.head()"
   ]
  },
  {
   "cell_type": "code",
   "execution_count": 22,
   "id": "449570d2",
   "metadata": {},
   "outputs": [],
   "source": [
    "df.drop('Id_number', axis=1, inplace=True)\n",
    "\n",
    "res_dicts = dict()\n",
    "\n",
    "for col in ['Type']:\n",
    "    res, res_dict = convert_label(df,col)\n",
    "    res_dicts[col] = res_dict\n",
    "    df[col] = res"
   ]
  },
  {
   "cell_type": "code",
   "execution_count": 23,
   "id": "bb2c0c12",
   "metadata": {},
   "outputs": [],
   "source": [
    "random.seed(110)\n",
    "split_ratio = 0.2\n",
    "\n",
    "\n",
    "train_df, test_df = train_test_split(df,test_size=0.2, random_state = 110)\n",
    "\n",
    "for col in train_df.columns[:-1]:\n",
    "    if col not in categorical_column:\n",
    "        mean = train_df[col].mean()\n",
    "        std = train_df[col].std()\n",
    "        train_df[col] = train_df[col].map(lambda x: (x-mean)/std)\n",
    "        test_df[col] = test_df[col].map(lambda x: (x-mean)/std)\n",
    "        \n",
    "target = 'Type'\n",
    "unique_label = df[target].unique()\n",
    "\n",
    "NBC_multiclass = NaiveBayesClassifier(unique_label, target)"
   ]
  },
  {
   "cell_type": "code",
   "execution_count": 24,
   "id": "0f1a7b5f",
   "metadata": {},
   "outputs": [],
   "source": [
    "NBC_multiclass.train(train_df)"
   ]
  },
  {
   "cell_type": "code",
   "execution_count": 25,
   "id": "5ccb212c",
   "metadata": {},
   "outputs": [
    {
     "name": "stderr",
     "output_type": "stream",
     "text": [
      "100%|███████████████████████████████████████████████████████████████████████████████| 171/171 [00:00<00:00, 174.48it/s]\n"
     ]
    }
   ],
   "source": [
    "#train accuracy\n",
    "total_sum = 0\n",
    "\n",
    "for i, new_data in tqdm(train_df.iterrows(), total = len(train_df)):\n",
    "    if new_data[target] == NBC_multiclass.predict(new_data):\n",
    "        total_sum += 1\n",
    "        \n",
    "accuracy = total_sum / len(train_df)"
   ]
  },
  {
   "cell_type": "code",
   "execution_count": 26,
   "id": "1d4709a3",
   "metadata": {},
   "outputs": [
    {
     "data": {
      "text/plain": [
       "0.5964912280701754"
      ]
     },
     "execution_count": 26,
     "metadata": {},
     "output_type": "execute_result"
    }
   ],
   "source": [
    "accuracy"
   ]
  },
  {
   "cell_type": "code",
   "execution_count": 27,
   "id": "d8cae2ed",
   "metadata": {},
   "outputs": [
    {
     "name": "stderr",
     "output_type": "stream",
     "text": [
      "100%|█████████████████████████████████████████████████████████████████████████████████| 43/43 [00:00<00:00, 169.29it/s]\n"
     ]
    }
   ],
   "source": [
    "#test accuracy\n",
    "total_sum = 0\n",
    "\n",
    "for i, new_data in tqdm(test_df.iterrows(), total = len(test_df)):\n",
    "    if new_data[target] == NBC_multiclass.predict(new_data):\n",
    "        total_sum += 1\n",
    "        \n",
    "accuracy = total_sum / len(test_df)"
   ]
  },
  {
   "cell_type": "code",
   "execution_count": 28,
   "id": "4741676a",
   "metadata": {},
   "outputs": [
    {
     "data": {
      "text/plain": [
       "0.4186046511627907"
      ]
     },
     "execution_count": 28,
     "metadata": {},
     "output_type": "execute_result"
    }
   ],
   "source": [
    "accuracy"
   ]
  },
  {
   "cell_type": "code",
   "execution_count": 29,
   "id": "b5633d3a",
   "metadata": {},
   "outputs": [
    {
     "name": "stdout",
     "output_type": "stream",
     "text": [
      "0.3488372093023256\n"
     ]
    }
   ],
   "source": [
    "mode = train_df[target].mode()[0]\n",
    "print(len(test_df[test_df[target]==mode])/len(test_df))"
   ]
  },
  {
   "cell_type": "code",
   "execution_count": 30,
   "id": "fa40b44c",
   "metadata": {},
   "outputs": [
    {
     "data": {
      "text/plain": [
       "GaussianNB()"
      ]
     },
     "execution_count": 30,
     "metadata": {},
     "output_type": "execute_result"
    }
   ],
   "source": [
    "nb = GaussianNB()\n",
    "nb.fit(train_df[train_df.columns[:-1]], train_df['Type'])"
   ]
  },
  {
   "cell_type": "code",
   "execution_count": 31,
   "id": "2eb2ed52",
   "metadata": {},
   "outputs": [
    {
     "data": {
      "text/plain": [
       "0.5906432748538012"
      ]
     },
     "execution_count": 31,
     "metadata": {},
     "output_type": "execute_result"
    }
   ],
   "source": [
    "nb.score(train_df[train_df.columns[:-1]], train_df['Type'])"
   ]
  },
  {
   "cell_type": "code",
   "execution_count": 32,
   "id": "5603e3e4",
   "metadata": {},
   "outputs": [
    {
     "data": {
      "text/plain": [
       "0.4418604651162791"
      ]
     },
     "execution_count": 32,
     "metadata": {},
     "output_type": "execute_result"
    }
   ],
   "source": [
    "nb.score(test_df[test_df.columns[:-1]], test_df['Type'])"
   ]
  },
  {
   "cell_type": "markdown",
   "id": "2da40a6a",
   "metadata": {},
   "source": [
    "### 다항 나이브 베이즈 분류기"
   ]
  },
  {
   "cell_type": "code",
   "execution_count": 33,
   "id": "6ef7a3db",
   "metadata": {},
   "outputs": [],
   "source": [
    "columns = ['v1','v2','no']\n",
    "df = pd.read_csv('./data/spam/spam.csv',names =columns, header=None, encoding = \"ISO-8859-1\")"
   ]
  },
  {
   "cell_type": "code",
   "execution_count": 34,
   "id": "b567c0bd",
   "metadata": {},
   "outputs": [
    {
     "data": {
      "text/html": [
       "<div>\n",
       "<style scoped>\n",
       "    .dataframe tbody tr th:only-of-type {\n",
       "        vertical-align: middle;\n",
       "    }\n",
       "\n",
       "    .dataframe tbody tr th {\n",
       "        vertical-align: top;\n",
       "    }\n",
       "\n",
       "    .dataframe thead th {\n",
       "        text-align: right;\n",
       "    }\n",
       "</style>\n",
       "<table border=\"1\" class=\"dataframe\">\n",
       "  <thead>\n",
       "    <tr style=\"text-align: right;\">\n",
       "      <th></th>\n",
       "      <th>v1</th>\n",
       "      <th>v2</th>\n",
       "      <th>no</th>\n",
       "    </tr>\n",
       "  </thead>\n",
       "  <tbody>\n",
       "    <tr>\n",
       "      <th>0</th>\n",
       "      <td>ham</td>\n",
       "      <td>Go until jurong point, crazy.. Available only ...</td>\n",
       "      <td>NaN</td>\n",
       "    </tr>\n",
       "    <tr>\n",
       "      <th>1</th>\n",
       "      <td>ham</td>\n",
       "      <td>Ok lar... Joking wif u oni...</td>\n",
       "      <td>NaN</td>\n",
       "    </tr>\n",
       "    <tr>\n",
       "      <th>2</th>\n",
       "      <td>spam</td>\n",
       "      <td>Free entry in 2 a wkly comp to win FA Cup fina...</td>\n",
       "      <td>NaN</td>\n",
       "    </tr>\n",
       "    <tr>\n",
       "      <th>3</th>\n",
       "      <td>ham</td>\n",
       "      <td>U dun say so early hor... U c already then say...</td>\n",
       "      <td>NaN</td>\n",
       "    </tr>\n",
       "    <tr>\n",
       "      <th>4</th>\n",
       "      <td>ham</td>\n",
       "      <td>Nah I don't think he goes to usf, he lives aro...</td>\n",
       "      <td>NaN</td>\n",
       "    </tr>\n",
       "  </tbody>\n",
       "</table>\n",
       "</div>"
      ],
      "text/plain": [
       "     v1                                                 v2   no\n",
       "0   ham  Go until jurong point, crazy.. Available only ...  NaN\n",
       "1   ham                      Ok lar... Joking wif u oni...  NaN\n",
       "2  spam  Free entry in 2 a wkly comp to win FA Cup fina...  NaN\n",
       "3   ham  U dun say so early hor... U c already then say...  NaN\n",
       "4   ham  Nah I don't think he goes to usf, he lives aro...  NaN"
      ]
     },
     "execution_count": 34,
     "metadata": {},
     "output_type": "execute_result"
    }
   ],
   "source": [
    "df.head()"
   ]
  },
  {
   "cell_type": "code",
   "execution_count": 35,
   "id": "ccba7948",
   "metadata": {},
   "outputs": [],
   "source": [
    "df.dropna(inplace=True, axis =1)\n",
    "\n",
    "res_dicts = dict()\n",
    "\n",
    "for col in ['v1']:\n",
    "    res, res_dict = convert_label(df, col)\n",
    "    res_dicts[col] = res_dict\n",
    "    df[col] = res\n",
    "    \n",
    "df = df[['v2', 'v1']]"
   ]
  },
  {
   "cell_type": "code",
   "execution_count": 36,
   "id": "6fffd0c3",
   "metadata": {},
   "outputs": [],
   "source": [
    "def tokenize(message):\n",
    "    message = message.lower()\n",
    "    all_words = re.findall(\"[a-z0-9']+\", message)\n",
    "    return list(set(all_words))"
   ]
  },
  {
   "cell_type": "code",
   "execution_count": 37,
   "id": "d8107ae0",
   "metadata": {},
   "outputs": [],
   "source": [
    "def count_words(df, unique_label, column, target):\n",
    "    counts = defaultdict(lambda : [0]*len(unique_label))\n",
    "    \n",
    "    for _,row in df.iterrows():\n",
    "        for word in tokenize(row[column]):\n",
    "            counts[word][row[target]] += 1\n",
    "    return counts"
   ]
  },
  {
   "cell_type": "code",
   "execution_count": 38,
   "id": "4b3e9162",
   "metadata": {},
   "outputs": [],
   "source": [
    "def count_row_words(new_data):\n",
    "    counts = defaultdict(lambda:0)\n",
    "    \n",
    "    for word in tokenize(new_data):\n",
    "        counts[word] += 1\n",
    "    return counts"
   ]
  },
  {
   "cell_type": "code",
   "execution_count": 39,
   "id": "3aef2ee1",
   "metadata": {},
   "outputs": [],
   "source": [
    "class MultinomialNaiveBayesClassifier:\n",
    "    def __init__(self,unique_label, target, column):\n",
    "        self.__reference_counts = None\n",
    "        self.__prior_probs = None\n",
    "        self.__target = target\n",
    "        self.__unique_label = unique_label\n",
    "        self.__column = column\n",
    "        \n",
    "    def train(self, train_df):\n",
    "        reference_counts = count_words(train_df, self.__unique_label, self.__column, self.__target)\n",
    "        self.__reference_counts = reference_counts\n",
    "        \n",
    "        prior_probs = []\n",
    "        \n",
    "        for label in self.__unique_label:\n",
    "            prior_prob = estimate_target_prob(train_df, self.__target, label)\n",
    "            prior_probs.append(prior_prob)\n",
    "        self.__prior_probs = prior_probs\n",
    "    \n",
    "    def get_reference_counts(self):\n",
    "        return self.__reference_counts\n",
    "    \n",
    "    def predict(self, new_data):\n",
    "        new_data = new_data[column]\n",
    "        new_data = count_row_words(new_data)\n",
    "        object_value = []\n",
    "        \n",
    "        for label in self.__unique_label:\n",
    "            temp_counts = {k:v[label] for k,v in self.__reference_counts.items()}\n",
    "            cum_word_count = 0\n",
    "            numerators = []\n",
    "            train_word_counts = []\n",
    "            new_counts = []\n",
    "            \n",
    "            for word, count in new_data.items():\n",
    "                if word not in temp_counts.keys():\n",
    "                    train_word_count = 0\n",
    "                else:\n",
    "                    train_word_count = temp_counts[word]\n",
    "                    \n",
    "                new_counts.append(count)\n",
    "                numerators.append(train_word_count + l)\n",
    "                cum_word_count += train_word_count\n",
    "                \n",
    "            denominator = cum_word_count + l*len(self.__reference_counts.keys())\n",
    "            probs = np.array(numerators)/denominator\n",
    "            \n",
    "            log_sum = 0\n",
    "            \n",
    "            for i,p in enumerate(probs):\n",
    "                log_sum += new_counts[i]*np.log(p)\n",
    "                \n",
    "            object_value.append(log_sum)\n",
    "            \n",
    "        for i in self.__unique_label:\n",
    "            object_value[i] += np.log(self.__prior_probs[i])\n",
    "        max_object_value = max(object_value)\n",
    "        max_idx = object_value.index(max_object_value)\n",
    "        \n",
    "        return max_idx"
   ]
  },
  {
   "cell_type": "code",
   "execution_count": 40,
   "id": "7f47c728",
   "metadata": {},
   "outputs": [],
   "source": [
    "random.seed(110)\n",
    "split_ratio = 0.2\n",
    "l=1\n",
    "\n",
    "train_df, test_df = train_test_split(df,test_size=0.2, random_state = 110)"
   ]
  },
  {
   "cell_type": "code",
   "execution_count": 41,
   "id": "46438dd0",
   "metadata": {},
   "outputs": [],
   "source": [
    "target = 'v1'\n",
    "unique_label = train_df[target].unique()\n",
    "column = 'v2'\n",
    "MNBC = MultinomialNaiveBayesClassifier(unique_label, target, column)"
   ]
  },
  {
   "cell_type": "code",
   "execution_count": 42,
   "id": "b51df20c",
   "metadata": {},
   "outputs": [],
   "source": [
    "MNBC.train(train_df)"
   ]
  },
  {
   "cell_type": "code",
   "execution_count": 43,
   "id": "a05a64cb",
   "metadata": {},
   "outputs": [
    {
     "name": "stderr",
     "output_type": "stream",
     "text": [
      "100%|█████████████████████████████████████████████████████████████████████████████| 4455/4455 [00:06<00:00, 638.53it/s]\n"
     ]
    }
   ],
   "source": [
    "#train accuracy\n",
    "total_sum = 0\n",
    "\n",
    "for i, new_data in tqdm(train_df.iterrows(), total = len(train_df)):\n",
    "    if new_data[target] == MNBC.predict(new_data):\n",
    "        total_sum += 1\n",
    "        \n",
    "accuracy = total_sum/len(train_df)"
   ]
  },
  {
   "cell_type": "code",
   "execution_count": 44,
   "id": "78442c27",
   "metadata": {},
   "outputs": [
    {
     "data": {
      "text/plain": [
       "0.970594837261504"
      ]
     },
     "execution_count": 44,
     "metadata": {},
     "output_type": "execute_result"
    }
   ],
   "source": [
    "accuracy"
   ]
  },
  {
   "cell_type": "code",
   "execution_count": 45,
   "id": "8cce108a",
   "metadata": {},
   "outputs": [
    {
     "name": "stderr",
     "output_type": "stream",
     "text": [
      "100%|█████████████████████████████████████████████████████████████████████████████| 1114/1114 [00:01<00:00, 639.85it/s]\n"
     ]
    }
   ],
   "source": [
    "#test accuracy\n",
    "total_sum = 0\n",
    "\n",
    "for i, new_data in tqdm(test_df.iterrows(), total = len(test_df)):\n",
    "    if new_data[target] == MNBC.predict(new_data):\n",
    "        total_sum += 1\n",
    "        \n",
    "accuracy = total_sum/len(test_df)"
   ]
  },
  {
   "cell_type": "code",
   "execution_count": 46,
   "id": "deca9249",
   "metadata": {},
   "outputs": [
    {
     "data": {
      "text/plain": [
       "0.9542190305206463"
      ]
     },
     "execution_count": 46,
     "metadata": {},
     "output_type": "execute_result"
    }
   ],
   "source": [
    "accuracy"
   ]
  },
  {
   "cell_type": "code",
   "execution_count": 47,
   "id": "f40cfa21",
   "metadata": {},
   "outputs": [
    {
     "name": "stdout",
     "output_type": "stream",
     "text": [
      "0.8653500897666068\n"
     ]
    }
   ],
   "source": [
    "mode = train_df[target].mode()[0]\n",
    "print(len(test_df[test_df[target]==mode])/len(test_df))"
   ]
  },
  {
   "cell_type": "code",
   "execution_count": 48,
   "id": "d9407faf",
   "metadata": {
    "scrolled": true
   },
   "outputs": [
    {
     "data": {
      "text/plain": [
       "MultinomialNB()"
      ]
     },
     "execution_count": 48,
     "metadata": {},
     "output_type": "execute_result"
    }
   ],
   "source": [
    "X_tr = train_df['v2']\n",
    "y_tr = train_df['v1']\n",
    "\n",
    "X_te = test_df['v2']\n",
    "y_te = test_df['v1']\n",
    "\n",
    "cv = CountVectorizer()\n",
    "cv.fit(X_tr)\n",
    "\n",
    "X_tr = cv.transform(X_tr)\n",
    "X_te = cv.transform(X_te)\n",
    "\n",
    "MNBC1 = MultinomialNB()\n",
    "MNBC1.fit(X_tr, y_tr)"
   ]
  },
  {
   "cell_type": "code",
   "execution_count": 49,
   "id": "4890580b",
   "metadata": {},
   "outputs": [
    {
     "data": {
      "text/plain": [
       "0.9930415263748598"
      ]
     },
     "execution_count": 49,
     "metadata": {},
     "output_type": "execute_result"
    }
   ],
   "source": [
    "MNBC1.score(X_tr,y_tr)"
   ]
  },
  {
   "cell_type": "code",
   "execution_count": 50,
   "id": "70969b49",
   "metadata": {},
   "outputs": [
    {
     "data": {
      "text/plain": [
       "0.9874326750448833"
      ]
     },
     "execution_count": 50,
     "metadata": {},
     "output_type": "execute_result"
    }
   ],
   "source": [
    "MNBC1.score(X_te,y_te)"
   ]
  },
  {
   "cell_type": "code",
   "execution_count": 51,
   "id": "1d53dd92",
   "metadata": {},
   "outputs": [
    {
     "data": {
      "text/plain": [
       "7892"
      ]
     },
     "execution_count": 51,
     "metadata": {},
     "output_type": "execute_result"
    }
   ],
   "source": [
    "reference_counts = MNBC.get_reference_counts()\n",
    "len(sorted(list(reference_counts.keys())))"
   ]
  },
  {
   "cell_type": "code",
   "execution_count": 52,
   "id": "35ccc10e",
   "metadata": {},
   "outputs": [
    {
     "data": {
      "text/plain": [
       "7727"
      ]
     },
     "execution_count": 52,
     "metadata": {},
     "output_type": "execute_result"
    }
   ],
   "source": [
    "len(cv.get_feature_names())"
   ]
  }
 ],
 "metadata": {
  "kernelspec": {
   "display_name": "Python 3 (ipykernel)",
   "language": "python",
   "name": "python3"
  },
  "language_info": {
   "codemirror_mode": {
    "name": "ipython",
    "version": 3
   },
   "file_extension": ".py",
   "mimetype": "text/x-python",
   "name": "python",
   "nbconvert_exporter": "python",
   "pygments_lexer": "ipython3",
   "version": "3.9.13"
  }
 },
 "nbformat": 4,
 "nbformat_minor": 5
}
